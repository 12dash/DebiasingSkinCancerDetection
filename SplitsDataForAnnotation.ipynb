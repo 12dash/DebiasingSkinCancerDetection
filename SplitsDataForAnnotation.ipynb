{
 "cells": [
  {
   "cell_type": "markdown",
   "id": "1931bf94-f068-451c-9ae0-0855dd03b3f4",
   "metadata": {},
   "source": [
    "# Creating the Splits for annotations\n",
    "In this code, we create splits of the data that the annotators would be annotating. We decided to create 5 splits randomly that we would be annotating. \n",
    "\n",
    "### IMPORTANT\n",
    "#### MAKE SURE NOT TO RUN IT AGAIN ONCE THE SPLIT IS CREATED OR RUN IT AFTER REFRESHING THE KERNEL FROM THE TOP SO  THAT THE RANDOM_STATE CREATES THE SAME SPLIT"
   ]
  },
  {
   "cell_type": "code",
   "execution_count": 1,
   "id": "95e9f4c6-af00-4b97-b3f4-e1eb77006297",
   "metadata": {},
   "outputs": [],
   "source": [
    "import pandas as pd\n",
    "import numpy as np\n",
    "from collections import Counter "
   ]
  },
  {
   "cell_type": "code",
   "execution_count": 2,
   "id": "62d95540-900c-48ee-b752-79d7b3920157",
   "metadata": {},
   "outputs": [
    {
     "data": {
      "text/html": [
       "<div>\n",
       "<style scoped>\n",
       "    .dataframe tbody tr th:only-of-type {\n",
       "        vertical-align: middle;\n",
       "    }\n",
       "\n",
       "    .dataframe tbody tr th {\n",
       "        vertical-align: top;\n",
       "    }\n",
       "\n",
       "    .dataframe thead th {\n",
       "        text-align: right;\n",
       "    }\n",
       "</style>\n",
       "<table border=\"1\" class=\"dataframe\">\n",
       "  <thead>\n",
       "    <tr style=\"text-align: right;\">\n",
       "      <th></th>\n",
       "      <th>lesion_id</th>\n",
       "      <th>image_id</th>\n",
       "      <th>dx</th>\n",
       "      <th>dx_type</th>\n",
       "      <th>age</th>\n",
       "      <th>sex</th>\n",
       "      <th>localization</th>\n",
       "      <th>dataset</th>\n",
       "    </tr>\n",
       "  </thead>\n",
       "  <tbody>\n",
       "    <tr>\n",
       "      <th>0</th>\n",
       "      <td>HAM_0000118</td>\n",
       "      <td>ISIC_0027419</td>\n",
       "      <td>bkl</td>\n",
       "      <td>histo</td>\n",
       "      <td>80.0</td>\n",
       "      <td>male</td>\n",
       "      <td>scalp</td>\n",
       "      <td>vidir_modern</td>\n",
       "    </tr>\n",
       "    <tr>\n",
       "      <th>1</th>\n",
       "      <td>HAM_0000118</td>\n",
       "      <td>ISIC_0025030</td>\n",
       "      <td>bkl</td>\n",
       "      <td>histo</td>\n",
       "      <td>80.0</td>\n",
       "      <td>male</td>\n",
       "      <td>scalp</td>\n",
       "      <td>vidir_modern</td>\n",
       "    </tr>\n",
       "    <tr>\n",
       "      <th>2</th>\n",
       "      <td>HAM_0002730</td>\n",
       "      <td>ISIC_0026769</td>\n",
       "      <td>bkl</td>\n",
       "      <td>histo</td>\n",
       "      <td>80.0</td>\n",
       "      <td>male</td>\n",
       "      <td>scalp</td>\n",
       "      <td>vidir_modern</td>\n",
       "    </tr>\n",
       "    <tr>\n",
       "      <th>3</th>\n",
       "      <td>HAM_0002730</td>\n",
       "      <td>ISIC_0025661</td>\n",
       "      <td>bkl</td>\n",
       "      <td>histo</td>\n",
       "      <td>80.0</td>\n",
       "      <td>male</td>\n",
       "      <td>scalp</td>\n",
       "      <td>vidir_modern</td>\n",
       "    </tr>\n",
       "    <tr>\n",
       "      <th>4</th>\n",
       "      <td>HAM_0001466</td>\n",
       "      <td>ISIC_0031633</td>\n",
       "      <td>bkl</td>\n",
       "      <td>histo</td>\n",
       "      <td>75.0</td>\n",
       "      <td>male</td>\n",
       "      <td>ear</td>\n",
       "      <td>vidir_modern</td>\n",
       "    </tr>\n",
       "  </tbody>\n",
       "</table>\n",
       "</div>"
      ],
      "text/plain": [
       "     lesion_id      image_id   dx dx_type   age   sex localization   \n",
       "0  HAM_0000118  ISIC_0027419  bkl   histo  80.0  male        scalp  \\\n",
       "1  HAM_0000118  ISIC_0025030  bkl   histo  80.0  male        scalp   \n",
       "2  HAM_0002730  ISIC_0026769  bkl   histo  80.0  male        scalp   \n",
       "3  HAM_0002730  ISIC_0025661  bkl   histo  80.0  male        scalp   \n",
       "4  HAM_0001466  ISIC_0031633  bkl   histo  75.0  male          ear   \n",
       "\n",
       "        dataset  \n",
       "0  vidir_modern  \n",
       "1  vidir_modern  \n",
       "2  vidir_modern  \n",
       "3  vidir_modern  \n",
       "4  vidir_modern  "
      ]
     },
     "execution_count": 2,
     "metadata": {},
     "output_type": "execute_result"
    }
   ],
   "source": [
    "data_folder = \"data/\"\n",
    "df = pd.read_csv(data_folder+'HAM10000_metadata.csv')\n",
    "df.head()"
   ]
  },
  {
   "cell_type": "markdown",
   "id": "3c6a2318-941e-4462-b9a4-59cbe71a9b9f",
   "metadata": {},
   "source": [
    "We decided to split the data into 5 random splits"
   ]
  },
  {
   "cell_type": "code",
   "execution_count": 3,
   "id": "dcf0eb27-3bde-4b58-8dc1-16cff716c0e0",
   "metadata": {},
   "outputs": [],
   "source": [
    "num_splits = 5\n",
    "df_subset = df.sample(frac=1, random_state=42)\n",
    "df_splits = np.array_split(df_subset, num_splits)"
   ]
  },
  {
   "cell_type": "markdown",
   "id": "2f8c0669-0392-48ad-9b23-c5f8c7d630c3",
   "metadata": {},
   "source": [
    "The data distribution is shown below for each of the split while its being saved in the folder"
   ]
  },
  {
   "cell_type": "code",
   "execution_count": 4,
   "id": "3b3b8a79-f8ab-426b-b2c6-b3f9a7a5ec9d",
   "metadata": {},
   "outputs": [
    {
     "name": "stdout",
     "output_type": "stream",
     "text": [
      "[Split 0] Class Distribution of samples : {'mel': 226, 'nv': 1338, 'bkl': 228, 'bcc': 93, 'akiec': 69, 'df': 28, 'vasc': 21} \n",
      "\n",
      "[Split 1] Class Distribution of samples : {'nv': 1314, 'bkl': 230, 'akiec': 64, 'df': 26, 'mel': 228, 'bcc': 118, 'vasc': 23} \n",
      "\n",
      "[Split 2] Class Distribution of samples : {'nv': 1332, 'bkl': 230, 'bcc': 107, 'mel': 219, 'akiec': 62, 'df': 20, 'vasc': 33} \n",
      "\n",
      "[Split 3] Class Distribution of samples : {'nv': 1366, 'bkl': 187, 'bcc': 89, 'akiec': 71, 'mel': 229, 'vasc': 39, 'df': 22} \n",
      "\n",
      "[Split 4] Class Distribution of samples : {'nv': 1355, 'bkl': 224, 'mel': 211, 'df': 19, 'akiec': 61, 'bcc': 107, 'vasc': 26} \n",
      "\n"
     ]
    }
   ],
   "source": [
    "save_folder = \"annotations/raw_splits/\"\n",
    "for idx, split in enumerate(df_splits):\n",
    "    print(f\"[Split {idx}] Class Distribution of samples : {dict(Counter(split['dx']))} \\n\")\n",
    "    split.to_csv(save_folder+f\"split_{idx}.csv\", index=False)"
   ]
  },
  {
   "cell_type": "code",
   "execution_count": null,
   "id": "8ed5c535-855b-4609-8515-530f8be38c28",
   "metadata": {},
   "outputs": [],
   "source": []
  }
 ],
 "metadata": {
  "kernelspec": {
   "display_name": "Python 3 (ipykernel)",
   "language": "python",
   "name": "python3"
  },
  "language_info": {
   "codemirror_mode": {
    "name": "ipython",
    "version": 3
   },
   "file_extension": ".py",
   "mimetype": "text/x-python",
   "name": "python",
   "nbconvert_exporter": "python",
   "pygments_lexer": "ipython3",
   "version": "3.11.7"
  }
 },
 "nbformat": 4,
 "nbformat_minor": 5
}
