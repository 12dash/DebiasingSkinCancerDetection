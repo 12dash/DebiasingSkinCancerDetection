{
 "cells": [
  {
   "cell_type": "markdown",
   "id": "d2e8c8ca-3b80-416f-87a3-3a4a226684a7",
   "metadata": {},
   "source": [
    "# Training Model"
   ]
  },
  {
   "cell_type": "code",
   "execution_count": 1,
   "id": "d02261e3-705c-4a3d-86ee-31e9d70a3727",
   "metadata": {},
   "outputs": [],
   "source": [
    "import os\n",
    "import numpy as np\n",
    "import matplotlib.pyplot as plt\n",
    "import seaborn as sns\n",
    "\n",
    "sns.set_palette(\"deep\")\n",
    "sns.set_style('darkgrid')\n",
    "\n",
    "import torch\n",
    "import torch.nn as nn\n",
    "from torchvision import transforms\n",
    "from torch.utils.data import DataLoader\n",
    "\n",
    "from tqdm.notebook import tqdm\n",
    "\n",
    "from model.inception_model import InceptionModel\n",
    "from datasets.hams_dataset import HamDataset"
   ]
  },
  {
   "cell_type": "markdown",
   "id": "0ce1427a-14fb-4019-af1d-4e5b47c919d5",
   "metadata": {},
   "source": [
    "## Dataset & Dataloader"
   ]
  },
  {
   "cell_type": "code",
   "execution_count": 2,
   "id": "d53bf8dc-f071-4234-9747-1bd26fc26630",
   "metadata": {},
   "outputs": [],
   "source": [
    "preprocess = transforms.Compose([\n",
    "    transforms.Resize(299),\n",
    "    transforms.CenterCrop(299),\n",
    "    transforms.ToTensor(),\n",
    "    transforms.Normalize(mean=[0.485, 0.456, 0.406], std=[0.229, 0.224, 0.225]),\n",
    "])"
   ]
  },
  {
   "cell_type": "code",
   "execution_count": 3,
   "id": "6e61db60-1a98-4d3a-80d2-57bfdebccfa6",
   "metadata": {},
   "outputs": [],
   "source": [
    "attr = 'dark_corner'\n",
    "label = 'nv'\n",
    "\n",
    "biased_train_dataset = HamDataset('train_biased.csv', attr, label, transform = preprocess)\n",
    "unbiased_train_dataset = HamDataset('train_unbiased.csv', attr, label, transform = preprocess)\n",
    "val_dataset = HamDataset('val.csv', attr, label, transform = preprocess)\n",
    "test_dataset = HamDataset('test.csv', attr, label, transform = preprocess)"
   ]
  },
  {
   "cell_type": "code",
   "execution_count": 4,
   "id": "b07f884a-64e1-4b18-aae3-5a2218fb41bf",
   "metadata": {},
   "outputs": [],
   "source": [
    "batch_size = 16\n",
    "\n",
    "train_biased_dataloader = DataLoader(biased_train_dataset, batch_size=batch_size, shuffle=True)\n",
    "train_unbiased_dataloader = DataLoader(unbiased_train_dataset, batch_size=batch_size, shuffle=True)\n",
    "test_dataloader = DataLoader(test_dataset, batch_size=batch_size, shuffle=False)\n",
    "val_dataloader = DataLoader(val_dataset, batch_size=batch_size, shuffle=False)"
   ]
  },
  {
   "cell_type": "markdown",
   "id": "b4ce121e-4e66-4faf-985f-7199db6273b9",
   "metadata": {},
   "source": [
    "## Training Loop"
   ]
  },
  {
   "cell_type": "code",
   "execution_count": 5,
   "id": "beb415b4-b093-4717-9baa-15db8011a024",
   "metadata": {},
   "outputs": [],
   "source": [
    "PATH = 'model/saved_model/inception/'"
   ]
  },
  {
   "cell_type": "code",
   "execution_count": 6,
   "id": "e996202c-4b4b-443a-a8d5-9052ae108047",
   "metadata": {},
   "outputs": [],
   "source": [
    "def train_step(model, x_batch, y_batch, attr_batch, optim, \n",
    "               loss_fn = nn.BCEWithLogitsLoss()):\n",
    "    \n",
    "    optim.zero_grad()\n",
    "    y_pred = model(x_batch).reshape(-1)  \n",
    "    loss = loss_fn(y_pred, y_batch)\n",
    "    loss.backward()\n",
    "    optim.step()\n",
    "    return loss.item()"
   ]
  },
  {
   "cell_type": "code",
   "execution_count": 7,
   "id": "08dd6399-a764-4f45-8698-a50aaacdc9c5",
   "metadata": {},
   "outputs": [],
   "source": [
    "def evaluate(model, dataloader):\n",
    "    acc, total = [], []\n",
    "    model.eval()\n",
    "    for _, (x, y, attr) in enumerate(dataloader):\n",
    "        x, y, attr = x.to(model.device), y.to(model.device), attr.to(model.device)\n",
    "        y_pred = torch.sigmoid(model(x)).reshape(-1)  \n",
    "        acc_ = torch.sum(torch.round(y_pred) == y)\n",
    "        \n",
    "        total.append(y.shape[0])\n",
    "        acc.append(acc_.item())\n",
    "        \n",
    "    model.train()\n",
    "    acc = np.sum(acc)/np.sum(total)\n",
    "    return acc"
   ]
  },
  {
   "cell_type": "code",
   "execution_count": 8,
   "id": "b88293df-7a88-46fd-a802-aca49364c03d",
   "metadata": {},
   "outputs": [],
   "source": [
    "def train(train_dataloader, val_dataloader, test_dataloader, \n",
    "          epochs = 10, evaluate_per_epoch=1, device='mps'):\n",
    "    model = InceptionModel(num_last_layer = 1, device = device).to(device)\n",
    "    optim = torch.optim.Adam(model.parameters())\n",
    "    history = {'loss':[], 'accuracy':[]}\n",
    "    \n",
    "    for epoch in tqdm(range(epochs)):\n",
    "        epoch_loss = []\n",
    "        for _, (x, y, attr) in enumerate(train_dataloader):\n",
    "            x, y, attr = x.to(device), y.to(device), attr.to(device)\n",
    "            loss = train_step(model, x, y, attr, optim)\n",
    "            epoch_loss.append(loss)\n",
    "        \n",
    "        epoch_loss = np.mean(epoch_loss)\n",
    "        history['loss'].append(epoch_loss)\n",
    "        if (epoch % evaluate_per_epoch == 0):\n",
    "            val_acc = evaluate(model, val_dataloader)\n",
    "            history['accuracy'].append(val_acc)\n",
    "            print(f\"[{epoch}] Training Loss : {epoch_loss:.4f} Val Acc : {val_acc:.2f}\")\n",
    "    \n",
    "    test_acc = evaluate(model, test_dataloader)\n",
    "    print(f\"Accuracy on test dataset : {test_acc : .3f}\")\n",
    "    return history, model"
   ]
  },
  {
   "cell_type": "code",
   "execution_count": 9,
   "id": "4c118401-1471-4f1f-a849-41fa7f55e9ef",
   "metadata": {},
   "outputs": [
    {
     "data": {
      "application/vnd.jupyter.widget-view+json": {
       "model_id": "36ee45089ab04550b3b333989ffc472f",
       "version_major": 2,
       "version_minor": 0
      },
      "text/plain": [
       "  0%|          | 0/10 [00:00<?, ?it/s]"
      ]
     },
     "metadata": {},
     "output_type": "display_data"
    },
    {
     "name": "stdout",
     "output_type": "stream",
     "text": [
      "[0] Training Loss : 0.4802 Val Acc : 0.52\n",
      "[1] Training Loss : 0.4688 Val Acc : 0.39\n",
      "[2] Training Loss : 0.4535 Val Acc : 0.33\n",
      "[3] Training Loss : 0.4264 Val Acc : 0.33\n",
      "[4] Training Loss : 0.4220 Val Acc : 0.46\n",
      "[5] Training Loss : 0.3973 Val Acc : 0.42\n",
      "[6] Training Loss : 0.4161 Val Acc : 0.53\n",
      "[7] Training Loss : 0.4002 Val Acc : 0.52\n",
      "[8] Training Loss : 0.3846 Val Acc : 0.57\n",
      "[9] Training Loss : 0.3870 Val Acc : 0.59\n",
      "Accuracy on test dataset :  0.588\n"
     ]
    }
   ],
   "source": [
    "history_biased, biased_model = train(train_biased_dataloader, val_dataloader, test_dataloader)"
   ]
  },
  {
   "cell_type": "code",
   "execution_count": 10,
   "id": "dff47f10-982a-4f5f-93b7-bbcddee6bb3c",
   "metadata": {},
   "outputs": [],
   "source": [
    "if not os.path.exists(PATH) : os.makedirs(PATH)"
   ]
  },
  {
   "cell_type": "code",
   "execution_count": 11,
   "id": "edce8dc2-5e78-46ce-a6c2-18a1b2032803",
   "metadata": {},
   "outputs": [],
   "source": [
    "torch.save(biased_model, PATH+'biased.pickle')"
   ]
  },
  {
   "cell_type": "code",
   "execution_count": 12,
   "id": "f2a470f8-7d3b-407b-b362-7e1775c339a3",
   "metadata": {},
   "outputs": [
    {
     "data": {
      "application/vnd.jupyter.widget-view+json": {
       "model_id": "c6f8c6ea5b5d4763a50ca7c6410d326b",
       "version_major": 2,
       "version_minor": 0
      },
      "text/plain": [
       "  0%|          | 0/10 [00:00<?, ?it/s]"
      ]
     },
     "metadata": {},
     "output_type": "display_data"
    },
    {
     "name": "stdout",
     "output_type": "stream",
     "text": [
      "[0] Training Loss : 0.5527 Val Acc : 0.69\n",
      "[1] Training Loss : 0.5156 Val Acc : 0.73\n",
      "[2] Training Loss : 0.5267 Val Acc : 0.77\n",
      "[3] Training Loss : 0.4742 Val Acc : 0.79\n",
      "[4] Training Loss : 0.4582 Val Acc : 0.80\n",
      "[5] Training Loss : 0.4424 Val Acc : 0.80\n",
      "[6] Training Loss : 0.4226 Val Acc : 0.78\n",
      "[7] Training Loss : 0.4182 Val Acc : 0.78\n",
      "[8] Training Loss : 0.4102 Val Acc : 0.79\n",
      "[9] Training Loss : 0.4142 Val Acc : 0.80\n",
      "Accuracy on test dataset :  0.809\n"
     ]
    }
   ],
   "source": [
    "history_unbiased, unbiased_model = train(train_unbiased_dataloader, val_dataloader, test_dataloader)"
   ]
  },
  {
   "cell_type": "code",
   "execution_count": 13,
   "id": "d4497188-8dc0-403e-9744-456c90907b00",
   "metadata": {},
   "outputs": [],
   "source": [
    "torch.save(unbiased_model, PATH+'unbiased.pickle')"
   ]
  },
  {
   "cell_type": "code",
   "execution_count": 14,
   "id": "ca38d6cf-4766-4652-90a5-16ac4a25cf80",
   "metadata": {},
   "outputs": [
    {
     "data": {
      "image/png": "[encoded data removed]",
      "text/plain": [
       "<Figure size 1200x300 with 1 Axes>"
      ]
     },
     "metadata": {},
     "output_type": "display_data"
    }
   ],
   "source": [
    "plt.figure(figsize=(12,3))\n",
    "axs = sns.lineplot(history_biased['accuracy'], label = 'Biased Dataset')\n",
    "axs = sns.lineplot(history_unbiased['accuracy'], label = 'Uniased Dataset')\n",
    "_ = axs.set(xlabel='Epoch',\n",
    "            ylabel='Validation accuracy', \n",
    "            title = \"Validation accuracy per epoch\")"
   ]
  },
  {
   "cell_type": "code",
   "execution_count": null,
   "id": "62468241-021b-4145-bc54-327f966018f5",
   "metadata": {},
   "outputs": [],
   "source": []
  }
 ],
 "metadata": {
  "kernelspec": {
   "display_name": "Python 3 (ipykernel)",
   "language": "python",
   "name": "python3"
  },
  "language_info": {
   "codemirror_mode": {
    "name": "ipython",
    "version": 3
   },
   "file_extension": ".py",
   "mimetype": "text/x-python",
   "name": "python",
   "nbconvert_exporter": "python",
   "pygments_lexer": "ipython3",
   "version": "3.11.7"
  }
 },
 "nbformat": 4,
 "nbformat_minor": 5
}
