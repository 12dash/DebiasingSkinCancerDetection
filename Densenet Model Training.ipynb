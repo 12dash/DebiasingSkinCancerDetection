{
 "cells": [
  {
   "cell_type": "markdown",
   "id": "d2e8c8ca-3b80-416f-87a3-3a4a226684a7",
   "metadata": {},
   "source": [
    "# Training Model"
   ]
  },
  {
   "cell_type": "code",
   "execution_count": 1,
   "id": "d02261e3-705c-4a3d-86ee-31e9d70a3727",
   "metadata": {},
   "outputs": [],
   "source": [
    "import numpy as np\n",
    "import matplotlib.pyplot as plt\n",
    "import seaborn as sns\n",
    "\n",
    "sns.set_palette(\"deep\")\n",
    "sns.set_style('darkgrid')\n",
    "\n",
    "import torch\n",
    "import torch.nn as nn\n",
    "from torchvision import transforms\n",
    "from torch.utils.data import DataLoader\n",
    "\n",
    "from tqdm.notebook import tqdm\n",
    "\n",
    "from model.densenet_model import DenseNetModel\n",
    "from datasets.hams_dataset import HamDataset"
   ]
  },
  {
   "cell_type": "markdown",
   "id": "0ce1427a-14fb-4019-af1d-4e5b47c919d5",
   "metadata": {},
   "source": [
    "## Dataset & Dataloader"
   ]
  },
  {
   "cell_type": "code",
   "execution_count": 2,
   "id": "d53bf8dc-f071-4234-9747-1bd26fc26630",
   "metadata": {},
   "outputs": [],
   "source": [
    "preprocess = transforms.Compose([\n",
    "    transforms.Resize(256),\n",
    "    transforms.CenterCrop(224),\n",
    "    transforms.ToTensor(),\n",
    "    transforms.Normalize(mean=[0.485, 0.456, 0.406], std=[0.229, 0.224, 0.225]),\n",
    "])"
   ]
  },
  {
   "cell_type": "code",
   "execution_count": 3,
   "id": "6e61db60-1a98-4d3a-80d2-57bfdebccfa6",
   "metadata": {},
   "outputs": [],
   "source": [
    "attr = 'dark_corner'\n",
    "label = 'nv'\n",
    "\n",
    "biased_train_dataset = HamDataset('train_biased.csv', attr, label, transform = preprocess)\n",
    "unbiased_train_dataset = HamDataset('train_unbiased.csv', attr, label, transform = preprocess)\n",
    "val_dataset = HamDataset('val.csv', attr, label, transform = preprocess)\n",
    "test_dataset = HamDataset('test.csv', attr, label, transform = preprocess)"
   ]
  },
  {
   "cell_type": "code",
   "execution_count": 4,
   "id": "b07f884a-64e1-4b18-aae3-5a2218fb41bf",
   "metadata": {},
   "outputs": [],
   "source": [
    "batch_size = 16\n",
    "\n",
    "train_biased_dataloader = DataLoader(biased_train_dataset, batch_size=batch_size, shuffle=True)\n",
    "train_unbiased_dataloader = DataLoader(unbiased_train_dataset, batch_size=batch_size, shuffle=True)\n",
    "test_dataloader = DataLoader(test_dataset, batch_size=batch_size, shuffle=False)\n",
    "val_dataloader = DataLoader(val_dataset, batch_size=batch_size, shuffle=False)"
   ]
  },
  {
   "cell_type": "markdown",
   "id": "b4ce121e-4e66-4faf-985f-7199db6273b9",
   "metadata": {},
   "source": [
    "## Training Loop"
   ]
  },
  {
   "cell_type": "code",
   "execution_count": 5,
   "id": "e996202c-4b4b-443a-a8d5-9052ae108047",
   "metadata": {},
   "outputs": [],
   "source": [
    "def train_step(model, x_batch, y_batch, attr_batch, optim, \n",
    "               loss_fn = nn.BCEWithLogitsLoss()):\n",
    "    \n",
    "    optim.zero_grad()\n",
    "    y_pred = model(x_batch).reshape(-1)  \n",
    "    loss = loss_fn(y_pred, y_batch)\n",
    "    loss.backward()\n",
    "    optim.step()\n",
    "    return loss.item()"
   ]
  },
  {
   "cell_type": "code",
   "execution_count": 6,
   "id": "08dd6399-a764-4f45-8698-a50aaacdc9c5",
   "metadata": {},
   "outputs": [],
   "source": [
    "def evaluate(model, dataloader):\n",
    "    acc, total = [], []\n",
    "    model.eval()\n",
    "    for _, (x, y, attr) in enumerate(dataloader):\n",
    "        x, y, attr = x.to(model.device), y.to(model.device), attr.to(model.device)\n",
    "        y_pred = torch.sigmoid(model(x)).reshape(-1)  \n",
    "        acc_ = torch.sum(torch.round(y_pred) == y)\n",
    "        \n",
    "        total.append(y.shape[0])\n",
    "        acc.append(acc_.item())\n",
    "        \n",
    "    model.train()\n",
    "    acc = np.sum(acc)/np.sum(total)\n",
    "    return acc"
   ]
  },
  {
   "cell_type": "code",
   "execution_count": 7,
   "id": "b88293df-7a88-46fd-a802-aca49364c03d",
   "metadata": {},
   "outputs": [],
   "source": [
    "def train(train_dataloader, val_dataloader, test_dataloader, \n",
    "          epochs = 10, evaluate_per_epoch=1, device='mps'):\n",
    "    model = DenseNetModel(num_last_layer = 1, device = device).to(device)\n",
    "    optim = torch.optim.Adam(model.parameters())\n",
    "    history = {'loss':[], 'accuracy':[]}\n",
    "    \n",
    "    for epoch in tqdm(range(epochs)):\n",
    "        epoch_loss = []\n",
    "        for _, (x, y, attr) in enumerate(train_dataloader):\n",
    "            x, y, attr = x.to(device), y.to(device), attr.to(device)\n",
    "            loss = train_step(model, x, y, attr, optim)\n",
    "            epoch_loss.append(loss)\n",
    "        \n",
    "        epoch_loss = np.mean(epoch_loss)\n",
    "        history['loss'].append(epoch_loss)\n",
    "        if (epoch % evaluate_per_epoch == 0):\n",
    "            val_acc = evaluate(model, val_dataloader)\n",
    "            history['accuracy'].append(val_acc)\n",
    "            print(f\"[{epoch}] Training Loss : {epoch_loss:.4f} Val Acc : {val_acc:.2f}\")\n",
    "    \n",
    "    test_acc = evaluate(model, test_dataloader)\n",
    "    print(f\"Accuracy on test dataset : {test_acc : .3f}\")\n",
    "    return history"
   ]
  },
  {
   "cell_type": "code",
   "execution_count": 8,
   "id": "4c118401-1471-4f1f-a849-41fa7f55e9ef",
   "metadata": {},
   "outputs": [
    {
     "data": {
      "application/vnd.jupyter.widget-view+json": {
       "model_id": "83ac7e2223904a71ad0cf4f90c89c0b6",
       "version_major": 2,
       "version_minor": 0
      },
      "text/plain": [
       "  0%|          | 0/10 [00:00<?, ?it/s]"
      ]
     },
     "metadata": {},
     "output_type": "display_data"
    },
    {
     "name": "stdout",
     "output_type": "stream",
     "text": [
      "[0] Training Loss : 0.4592 Val Acc : 0.35\n",
      "[1] Training Loss : 0.4158 Val Acc : 0.47\n",
      "[2] Training Loss : 0.3833 Val Acc : 0.49\n",
      "[3] Training Loss : 0.3843 Val Acc : 0.34\n",
      "[4] Training Loss : 0.3816 Val Acc : 0.60\n",
      "[5] Training Loss : 0.3617 Val Acc : 0.45\n",
      "[6] Training Loss : 0.3605 Val Acc : 0.57\n",
      "[7] Training Loss : 0.3488 Val Acc : 0.66\n",
      "[8] Training Loss : 0.3348 Val Acc : 0.66\n",
      "[9] Training Loss : 0.3213 Val Acc : 0.60\n",
      "Accuracy on test dataset :  0.606\n"
     ]
    }
   ],
   "source": [
    "history_biased = train(train_biased_dataloader, val_dataloader, test_dataloader)"
   ]
  },
  {
   "cell_type": "code",
   "execution_count": 9,
   "id": "f2a470f8-7d3b-407b-b362-7e1775c339a3",
   "metadata": {},
   "outputs": [
    {
     "data": {
      "application/vnd.jupyter.widget-view+json": {
       "model_id": "d97f8a0618ef486a813ee1145789195f",
       "version_major": 2,
       "version_minor": 0
      },
      "text/plain": [
       "  0%|          | 0/10 [00:00<?, ?it/s]"
      ]
     },
     "metadata": {},
     "output_type": "display_data"
    },
    {
     "name": "stdout",
     "output_type": "stream",
     "text": [
      "[0] Training Loss : 0.4996 Val Acc : 0.79\n",
      "[1] Training Loss : 0.4512 Val Acc : 0.80\n",
      "[2] Training Loss : 0.4382 Val Acc : 0.80\n",
      "[3] Training Loss : 0.3986 Val Acc : 0.80\n",
      "[4] Training Loss : 0.4075 Val Acc : 0.82\n",
      "[5] Training Loss : 0.3871 Val Acc : 0.83\n",
      "[6] Training Loss : 0.3809 Val Acc : 0.82\n",
      "[7] Training Loss : 0.3893 Val Acc : 0.83\n",
      "[8] Training Loss : 0.3731 Val Acc : 0.83\n",
      "[9] Training Loss : 0.3701 Val Acc : 0.82\n",
      "Accuracy on test dataset :  0.849\n"
     ]
    }
   ],
   "source": [
    "history_unbiased = train(train_unbiased_dataloader, val_dataloader, test_dataloader)"
   ]
  },
  {
   "cell_type": "code",
   "execution_count": 10,
   "id": "ca38d6cf-4766-4652-90a5-16ac4a25cf80",
   "metadata": {},
   "outputs": [
    {
     "data": {
      "image/png": "[encoded data removed]",
      "text/plain": [
       "<Figure size 1200x300 with 1 Axes>"
      ]
     },
     "metadata": {},
     "output_type": "display_data"
    }
   ],
   "source": [
    "plt.figure(figsize=(12,3))\n",
    "axs = sns.lineplot(history_biased['accuracy'], label = 'Biased Dataset')\n",
    "axs = sns.lineplot(history_unbiased['accuracy'], label = 'Uniased Dataset')\n",
    "_ = axs.set(xlabel='Epoch',\n",
    "            ylabel='Validation accuracy', \n",
    "            title = \"Validation accuracy per epoch\")"
   ]
  },
  {
   "cell_type": "code",
   "execution_count": null,
   "id": "62468241-021b-4145-bc54-327f966018f5",
   "metadata": {},
   "outputs": [],
   "source": []
  }
 ],
 "metadata": {
  "kernelspec": {
   "display_name": "Python 3 (ipykernel)",
   "language": "python",
   "name": "python3"
  },
  "language_info": {
   "codemirror_mode": {
    "name": "ipython",
    "version": 3
   },
   "file_extension": ".py",
   "mimetype": "text/x-python",
   "name": "python",
   "nbconvert_exporter": "python",
   "pygments_lexer": "ipython3",
   "version": "3.11.7"
  }
 },
 "nbformat": 4,
 "nbformat_minor": 5
}
